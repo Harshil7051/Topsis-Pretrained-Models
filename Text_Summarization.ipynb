{
  "nbformat": 4,
  "nbformat_minor": 0,
  "metadata": {
    "colab": {
      "provenance": []
    },
    "kernelspec": {
      "name": "python3",
      "display_name": "Python 3"
    },
    "language_info": {
      "name": "python"
    }
  },
  "cells": [
    {
      "cell_type": "code",
      "execution_count": 1,
      "metadata": {
        "id": "VSUTnulJNTF3"
      },
      "outputs": [],
      "source": [
        "import pandas as pd\n",
        "import numpy as np\n",
        "import matplotlib.pyplot as plt"
      ]
    },
    {
      "cell_type": "code",
      "source": [
        "df = pd.read_csv('/content/Text-Summarization.csv')"
      ],
      "metadata": {
        "id": "8YROBmLCNWvP"
      },
      "execution_count": 2,
      "outputs": []
    },
    {
      "cell_type": "code",
      "source": [
        "df.columns = df.iloc[0]\n",
        "df = df[1:].reset_index(drop=True)\n",
        "first_column = df.iloc[:, 0].copy()"
      ],
      "metadata": {
        "id": "_6uvuC_CQJh-"
      },
      "execution_count": 3,
      "outputs": []
    },
    {
      "cell_type": "code",
      "source": [
        "df.set_index(df.columns[0], inplace=True)"
      ],
      "metadata": {
        "id": "zdlPpaOCQYUY"
      },
      "execution_count": 4,
      "outputs": []
    },
    {
      "cell_type": "code",
      "source": [
        "print(df)"
      ],
      "metadata": {
        "colab": {
          "base_uri": "https://localhost:8080/"
        },
        "id": "YNrVDWztQaG6",
        "outputId": "48cd594f-e893-44d6-8753-a73dbaafd935"
      },
      "execution_count": 5,
      "outputs": [
        {
          "output_type": "stream",
          "name": "stdout",
          "text": [
            "0        0.714286  0.25   0.0  0.2  0.666667  1.0\n",
            "BART                                             \n",
            "T5       0.428571   0.5  0.50  0.6  0.333333  0.5\n",
            "GPT-2    0.000000   1.0  1.00  1.0  0.000000  0.0\n",
            "Pegasus  1.000000   0.6  0.50  0.8  0.333333  0.5\n",
            "BERT     0.285714   0.0  0.25  0.0  1.000000  1.0\n"
          ]
        }
      ]
    },
    {
      "cell_type": "code",
      "source": [
        "normalized_df = df.copy()\n",
        "for column in df.columns[1:]:\n",
        "    normalized_df[column] = (df[column] - df[column].min()) / (df[column].max() - df[column].min())"
      ],
      "metadata": {
        "id": "QTjuFPDsNWwy"
      },
      "execution_count": 6,
      "outputs": []
    },
    {
      "cell_type": "code",
      "source": [
        "weights = np.array([0.3, 0.2, 0.15, 0.1, 0.15, 0.1])"
      ],
      "metadata": {
        "id": "E-l3eOhsNW0H"
      },
      "execution_count": 7,
      "outputs": []
    },
    {
      "cell_type": "code",
      "source": [
        "ideal_solution = normalized_df.max()\n",
        "negative_ideal_solution = normalized_df.min()"
      ],
      "metadata": {
        "id": "kMZxa_PRNW17"
      },
      "execution_count": 8,
      "outputs": []
    },
    {
      "cell_type": "code",
      "source": [
        "distance_to_ideal = np.sqrt(((normalized_df - ideal_solution) ** 2).sum(axis=1))\n",
        "distance_to_negative_ideal = np.sqrt(((normalized_df - negative_ideal_solution) ** 2).sum(axis=1))"
      ],
      "metadata": {
        "id": "sNxBwUdeNW3g"
      },
      "execution_count": 9,
      "outputs": []
    },
    {
      "cell_type": "code",
      "source": [
        "closeness_coefficient = distance_to_negative_ideal / (distance_to_ideal + distance_to_negative_ideal)\n",
        "df['Closeness Coefficient'] = closeness_coefficient"
      ],
      "metadata": {
        "id": "aAsnl8DeNW6o"
      },
      "execution_count": 10,
      "outputs": []
    },
    {
      "cell_type": "code",
      "source": [
        "df['Rank'] = df['Closeness Coefficient'].rank(ascending=False)\n",
        "df['Model'] = first_column\n",
        "print(df[['Model', 'Rank', 'Closeness Coefficient']])"
      ],
      "metadata": {
        "colab": {
          "base_uri": "https://localhost:8080/"
        },
        "id": "pmaygCJ3NW8c",
        "outputId": "2984fc79-a833-4370-b427-3fc4371e3777"
      },
      "execution_count": 11,
      "outputs": [
        {
          "output_type": "stream",
          "name": "stdout",
          "text": [
            "0       Model  Rank  Closeness Coefficient\n",
            "BART                                      \n",
            "T5        NaN   3.0               0.451026\n",
            "GPT-2     NaN   2.0               0.500000\n",
            "Pegasus   NaN   1.0               0.576065\n",
            "BERT      NaN   4.0               0.435054\n"
          ]
        }
      ]
    },
    {
      "cell_type": "code",
      "source": [
        "df.plot(x='Model', y='Closeness Coefficient', kind='bar')\n",
        "plt.show()"
      ],
      "metadata": {
        "colab": {
          "base_uri": "https://localhost:8080/",
          "height": 464
        },
        "id": "LpScz4fWNW-h",
        "outputId": "6a5322f3-0ebb-41cb-eb2e-795556f4d128"
      },
      "execution_count": 12,
      "outputs": [
        {
          "output_type": "display_data",
          "data": {
            "text/plain": [
              "<Figure size 640x480 with 1 Axes>"
            ],
            "image/png": "[encoded data removed]"
          },
          "metadata": {}
        }
      ]
    }
  ]
}